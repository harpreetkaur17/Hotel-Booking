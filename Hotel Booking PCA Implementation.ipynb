{
 "cells": [
  {
   "cell_type": "markdown",
   "metadata": {},
   "source": [
    "## Taking only in imporatant features as selected from the previous file \n",
    "## Main purpose is to implement pipleline"
   ]
  },
  {
   "cell_type": "code",
   "execution_count": 81,
   "metadata": {},
   "outputs": [],
   "source": [
    "import pandas as pd\n",
    "import numpy as np\n",
    "import matplotlib.pyplot as plt\n",
    "import seaborn as sns\n",
    "from mpl_toolkits.mplot3d import Axes3D\n",
    "\n",
    "from sklearn.preprocessing import LabelEncoder\n",
    "from sklearn.preprocessing import StandardScaler\n",
    "from sklearn.preprocessing import OneHotEncoder\n",
    "\n",
    "from sklearn.impute import SimpleImputer\n",
    "from sklearn.pipeline import FeatureUnion\n",
    "from sklearn.pipeline import Pipeline\n",
    "from sklearn.compose import ColumnTransformer\n",
    "\n",
    "from sklearn.model_selection import train_test_split\n",
    "from sklearn.model_selection import GridSearchCV \n",
    "from sklearn.model_selection import KFold\n",
    "from sklearn.model_selection import StratifiedKFold\n",
    "from sklearn.model_selection import cross_val_score\n",
    "\n",
    "\n",
    "from sklearn.neighbors import KNeighborsClassifier\n",
    "from sklearn.tree import DecisionTreeClassifier\n",
    "from sklearn.linear_model import LogisticRegression\n",
    "from sklearn.svm import SVC\n",
    "from sklearn.ensemble import RandomForestClassifier\n",
    "\n",
    "from sklearn.decomposition import PCA\n",
    "\n",
    "from sklearn.metrics import confusion_matrix,classification_report\n",
    "from imblearn.metrics import sensitivity_specificity_support\n",
    "from imblearn.metrics import sensitivity_score ,specificity_score\n",
    "from sklearn.metrics import recall_score , accuracy_score ,precision_score,f1_score,roc_auc_score"
   ]
  },
  {
   "cell_type": "code",
   "execution_count": 2,
   "metadata": {},
   "outputs": [],
   "source": [
    "data=pd.read_csv('hotel_bookings.csv',parse_dates=['reservation_status_date'])"
   ]
  },
  {
   "cell_type": "code",
   "execution_count": 3,
   "metadata": {},
   "outputs": [],
   "source": [
    "## Country , Company ,Ageny ,children has null values\n",
    "## Company has more then 90% null values so Company can be removed easily let us remove and check\n",
    "\n",
    "data.drop('company',axis=1,inplace=True)\n",
    "\n",
    "## after removing Company still children country and Ageny is having null values we will check them later"
   ]
  },
  {
   "cell_type": "code",
   "execution_count": 4,
   "metadata": {},
   "outputs": [
    {
     "data": {
      "text/plain": [
       "0    75166\n",
       "1    44224\n",
       "Name: is_canceled, dtype: int64"
      ]
     },
     "execution_count": 4,
     "metadata": {},
     "output_type": "execute_result"
    }
   ],
   "source": [
    "data['is_canceled'].value_counts()"
   ]
  },
  {
   "cell_type": "code",
   "execution_count": 5,
   "metadata": {},
   "outputs": [],
   "source": [
    "### Data is imbalanced"
   ]
  },
  {
   "cell_type": "code",
   "execution_count": 6,
   "metadata": {},
   "outputs": [],
   "source": [
    "##  0 is max count so let us fill null value of children with 0\n",
    "data.children.fillna(0,inplace=True)"
   ]
  },
  {
   "cell_type": "markdown",
   "metadata": {},
   "source": [
    "### Let us combine Adults, Children and Babies to one family\n"
   ]
  },
  {
   "cell_type": "code",
   "execution_count": 7,
   "metadata": {},
   "outputs": [],
   "source": [
    "def family(df):\n",
    "    if((df.adults>0) & (df.children>0)):\n",
    "        fam= 1\n",
    "    elif((df.adults>0) & (df.babies>0)):\n",
    "        fam= 1\n",
    "    else:\n",
    "        fam= 0\n",
    "    return fam\n",
    "\n",
    "        "
   ]
  },
  {
   "cell_type": "code",
   "execution_count": 8,
   "metadata": {},
   "outputs": [],
   "source": [
    "data['family']=data.apply(family,axis=1)"
   ]
  },
  {
   "cell_type": "code",
   "execution_count": 9,
   "metadata": {},
   "outputs": [
    {
     "data": {
      "text/plain": [
       "0    110281\n",
       "1      9109\n",
       "Name: family, dtype: int64"
      ]
     },
     "execution_count": 9,
     "metadata": {},
     "output_type": "execute_result"
    }
   ],
   "source": [
    "data['family'].value_counts()"
   ]
  },
  {
   "cell_type": "code",
   "execution_count": 10,
   "metadata": {},
   "outputs": [],
   "source": [
    "\n",
    "data['total_customers']=data.adults+data.children+data.babies"
   ]
  },
  {
   "cell_type": "code",
   "execution_count": 11,
   "metadata": {},
   "outputs": [],
   "source": [
    "data.drop(['adults','children','babies'], axis=1, inplace=True)"
   ]
  },
  {
   "cell_type": "code",
   "execution_count": 12,
   "metadata": {},
   "outputs": [],
   "source": [
    "\n",
    "data.country.fillna('PRT', inplace=True)"
   ]
  },
  {
   "cell_type": "code",
   "execution_count": 13,
   "metadata": {},
   "outputs": [],
   "source": [
    "## we can convert previous_cancellations as yes or no\n",
    "data['previous_cancellations']=np.where(data['previous_cancellations']>0,'Yes','No')"
   ]
  },
  {
   "cell_type": "code",
   "execution_count": 14,
   "metadata": {},
   "outputs": [
    {
     "data": {
      "text/plain": [
       "No     112906\n",
       "Yes      6484\n",
       "Name: previous_cancellations, dtype: int64"
      ]
     },
     "execution_count": 14,
     "metadata": {},
     "output_type": "execute_result"
    }
   ],
   "source": [
    "data['previous_cancellations'].value_counts()"
   ]
  },
  {
   "cell_type": "code",
   "execution_count": 15,
   "metadata": {},
   "outputs": [],
   "source": [
    "data.drop('reservation_status', axis=1 , inplace=True)"
   ]
  },
  {
   "cell_type": "code",
   "execution_count": 16,
   "metadata": {},
   "outputs": [],
   "source": [
    "data.drop('arrival_date_week_number', axis=1 , inplace=True)"
   ]
  },
  {
   "cell_type": "code",
   "execution_count": 17,
   "metadata": {},
   "outputs": [],
   "source": [
    "data.drop('reservation_status_date',axis=1, inplace=True)"
   ]
  },
  {
   "cell_type": "code",
   "execution_count": 18,
   "metadata": {},
   "outputs": [],
   "source": [
    "data.drop('agent', axis=1 , inplace=True)"
   ]
  },
  {
   "cell_type": "markdown",
   "metadata": {},
   "source": [
    "### Now our data set is cleaned with 0 null values"
   ]
  },
  {
   "cell_type": "markdown",
   "metadata": {},
   "source": [
    "### arrival_date_day_of_month  and  stays_in_weekend_nights  is very less correlated to is_cancelled so we can remove and try once"
   ]
  },
  {
   "cell_type": "code",
   "execution_count": 19,
   "metadata": {},
   "outputs": [],
   "source": [
    "data.drop(['arrival_date_day_of_month', 'stays_in_weekend_nights'],axis=1, inplace=True)"
   ]
  },
  {
   "cell_type": "markdown",
   "metadata": {},
   "source": [
    "### Setting the list of numeric and categorial values saperatly"
   ]
  },
  {
   "cell_type": "code",
   "execution_count": 20,
   "metadata": {},
   "outputs": [],
   "source": [
    "df=data.copy()"
   ]
  },
  {
   "cell_type": "code",
   "execution_count": 21,
   "metadata": {},
   "outputs": [
    {
     "data": {
      "text/plain": [
       "array(['July', 'August', 'September', 'October', 'November', 'December',\n",
       "       'January', 'February', 'March', 'April', 'May', 'June'],\n",
       "      dtype=object)"
      ]
     },
     "execution_count": 21,
     "metadata": {},
     "output_type": "execute_result"
    }
   ],
   "source": [
    "df['arrival_date_month'].unique()"
   ]
  },
  {
   "cell_type": "code",
   "execution_count": 22,
   "metadata": {},
   "outputs": [],
   "source": [
    "months={'January':1,'February':2,'March':3,'April':4,'May':5,'June':6,'July':7,\n",
    "        'August':8,'September':9,'October':10,'November':11,'December':12}\n",
    "df['arrival_date_month'].replace(months,inplace=True)"
   ]
  },
  {
   "cell_type": "code",
   "execution_count": 23,
   "metadata": {},
   "outputs": [
    {
     "data": {
      "text/plain": [
       "dtype('int64')"
      ]
     },
     "execution_count": 23,
     "metadata": {},
     "output_type": "execute_result"
    }
   ],
   "source": [
    "df['arrival_date_month'].dtypes"
   ]
  },
  {
   "cell_type": "code",
   "execution_count": 24,
   "metadata": {},
   "outputs": [],
   "source": [
    "category_col=df.select_dtypes(include=['object']).columns\n",
    "numeric_col=df.select_dtypes(include=['number']).columns"
   ]
  },
  {
   "cell_type": "markdown",
   "metadata": {},
   "source": [
    "### For features with greater than 5 option we will use label encoding and for features less than 5 we will use on hot encoding and for arrival_date_month we will do manually as using label encoder it migth set diff labels"
   ]
  },
  {
   "cell_type": "code",
   "execution_count": 25,
   "metadata": {},
   "outputs": [
    {
     "name": "stderr",
     "output_type": "stream",
     "text": [
      "D:\\Installation\\lib\\site-packages\\ipykernel_launcher.py:1: DeprecationWarning: The default dtype for empty Series will be 'object' instead of 'float64' in a future version. Specify a dtype explicitly to silence this warning.\n",
      "  \"\"\"Entry point for launching an IPython kernel.\n"
     ]
    }
   ],
   "source": [
    "cat_ser=pd.Series(index=category_col)\n",
    "for i in category_col:\n",
    "    cat_ser[i]=df[i].nunique()"
   ]
  },
  {
   "cell_type": "code",
   "execution_count": 26,
   "metadata": {},
   "outputs": [
    {
     "data": {
      "text/plain": [
       "hotel                       2.0\n",
       "meal                        5.0\n",
       "country                   177.0\n",
       "market_segment              8.0\n",
       "distribution_channel        5.0\n",
       "previous_cancellations      2.0\n",
       "reserved_room_type         10.0\n",
       "assigned_room_type         12.0\n",
       "deposit_type                3.0\n",
       "customer_type               4.0\n",
       "dtype: float64"
      ]
     },
     "execution_count": 26,
     "metadata": {},
     "output_type": "execute_result"
    }
   ],
   "source": [
    "cat_ser"
   ]
  },
  {
   "cell_type": "code",
   "execution_count": 27,
   "metadata": {},
   "outputs": [],
   "source": [
    "lab_var=[]\n",
    "for i in df:\n",
    "    if (df[i].dtype=='O' and (df[i].nunique()==2 or df[i].nunique()>5 )):\n",
    "        lab_var.append(i)\n",
    "        "
   ]
  },
  {
   "cell_type": "code",
   "execution_count": 28,
   "metadata": {},
   "outputs": [
    {
     "data": {
      "text/plain": [
       "['hotel',\n",
       " 'country',\n",
       " 'market_segment',\n",
       " 'previous_cancellations',\n",
       " 'reserved_room_type',\n",
       " 'assigned_room_type']"
      ]
     },
     "execution_count": 28,
     "metadata": {},
     "output_type": "execute_result"
    }
   ],
   "source": [
    "lab_var"
   ]
  },
  {
   "cell_type": "code",
   "execution_count": 29,
   "metadata": {},
   "outputs": [
    {
     "name": "stdout",
     "output_type": "stream",
     "text": [
      "hotel\n",
      "country\n",
      "market_segment\n",
      "previous_cancellations\n",
      "reserved_room_type\n",
      "assigned_room_type\n",
      "total_columns updated 6\n"
     ]
    }
   ],
   "source": [
    "lab= LabelEncoder()\n",
    "col_count=0\n",
    "for i in df:\n",
    "    if (df[i].dtype=='O' and (df[i].nunique()==2 or df[i].nunique()>5 )):\n",
    "        if df[i].isnull().any()==False:\n",
    "            lab.fit(df[i])\n",
    "            df[i]=lab.transform(df[i])\n",
    "            print(i)\n",
    "            col_count+=1\n",
    "            \n",
    "print(\"total_columns updated\",col_count)"
   ]
  },
  {
   "cell_type": "code",
   "execution_count": 36,
   "metadata": {},
   "outputs": [],
   "source": [
    "df=pd.get_dummies(df)"
   ]
  },
  {
   "cell_type": "code",
   "execution_count": 37,
   "metadata": {},
   "outputs": [
    {
     "data": {
      "text/plain": [
       "uint8      17\n",
       "int64      12\n",
       "int32       6\n",
       "float64     2\n",
       "dtype: int64"
      ]
     },
     "execution_count": 37,
     "metadata": {},
     "output_type": "execute_result"
    }
   ],
   "source": [
    "df.dtypes.value_counts()"
   ]
  },
  {
   "cell_type": "code",
   "execution_count": 42,
   "metadata": {},
   "outputs": [
    {
     "data": {
      "text/plain": [
       "Index(['hotel', 'is_canceled', 'lead_time', 'arrival_date_year',\n",
       "       'arrival_date_month', 'stays_in_week_nights', 'country',\n",
       "       'market_segment', 'is_repeated_guest', 'previous_cancellations',\n",
       "       'previous_bookings_not_canceled', 'reserved_room_type',\n",
       "       'assigned_room_type', 'booking_changes', 'days_in_waiting_list', 'adr',\n",
       "       'required_car_parking_spaces', 'total_of_special_requests', 'family',\n",
       "       'total_customers', 'meal_BB', 'meal_FB', 'meal_HB', 'meal_SC',\n",
       "       'meal_Undefined', 'distribution_channel_Corporate',\n",
       "       'distribution_channel_Direct', 'distribution_channel_GDS',\n",
       "       'distribution_channel_TA/TO', 'distribution_channel_Undefined',\n",
       "       'deposit_type_No Deposit', 'deposit_type_Non Refund',\n",
       "       'deposit_type_Refundable', 'customer_type_Contract',\n",
       "       'customer_type_Group', 'customer_type_Transient',\n",
       "       'customer_type_Transient-Party'],\n",
       "      dtype='object')"
      ]
     },
     "execution_count": 42,
     "metadata": {},
     "output_type": "execute_result"
    }
   ],
   "source": [
    "df.columns"
   ]
  },
  {
   "cell_type": "markdown",
   "metadata": {},
   "source": [
    "### Saperating the data set in test and train"
   ]
  },
  {
   "cell_type": "code",
   "execution_count": 38,
   "metadata": {},
   "outputs": [
    {
     "data": {
      "text/plain": [
       "((79991, 36), (39399, 36), (79991,), (39399,))"
      ]
     },
     "execution_count": 38,
     "metadata": {},
     "output_type": "execute_result"
    }
   ],
   "source": [
    "X=df.drop('is_canceled',axis=1)\n",
    "y=df['is_canceled']\n",
    "X_train,X_test,y_train,y_test=train_test_split(X,y,test_size=0.33, random_state=42)\n",
    "X_train.shape , X_test.shape , y_train.shape , y_test.shape"
   ]
  },
  {
   "cell_type": "code",
   "execution_count": 40,
   "metadata": {},
   "outputs": [],
   "source": [
    "scaler=StandardScaler().fit(X_train)\n",
    "X_train=scaler.transform(X_train)\n",
    "X_test=scaler.transform(X_test)\n"
   ]
  },
  {
   "cell_type": "code",
   "execution_count": 43,
   "metadata": {},
   "outputs": [],
   "source": [
    "X_train=pd.DataFrame(X_train,columns=['hotel', 'lead_time', 'arrival_date_year',\n",
    "       'arrival_date_month', 'stays_in_week_nights', 'country',\n",
    "       'market_segment', 'is_repeated_guest', 'previous_cancellations',\n",
    "       'previous_bookings_not_canceled', 'reserved_room_type',\n",
    "       'assigned_room_type', 'booking_changes', 'days_in_waiting_list', 'adr',\n",
    "       'required_car_parking_spaces', 'total_of_special_requests', 'family',\n",
    "       'total_customers', 'meal_BB', 'meal_FB', 'meal_HB', 'meal_SC',\n",
    "       'meal_Undefined', 'distribution_channel_Corporate',\n",
    "       'distribution_channel_Direct', 'distribution_channel_GDS',\n",
    "       'distribution_channel_TA/TO', 'distribution_channel_Undefined',\n",
    "       'deposit_type_No Deposit', 'deposit_type_Non Refund',\n",
    "       'deposit_type_Refundable', 'customer_type_Contract',\n",
    "       'customer_type_Group', 'customer_type_Transient',\n",
    "       'customer_type_Transient-Party'])"
   ]
  },
  {
   "cell_type": "code",
   "execution_count": 44,
   "metadata": {},
   "outputs": [],
   "source": [
    "X_test=pd.DataFrame(X_test,columns=['hotel', 'lead_time', 'arrival_date_year',\n",
    "       'arrival_date_month', 'stays_in_week_nights', 'country',\n",
    "       'market_segment', 'is_repeated_guest', 'previous_cancellations',\n",
    "       'previous_bookings_not_canceled', 'reserved_room_type',\n",
    "       'assigned_room_type', 'booking_changes', 'days_in_waiting_list', 'adr',\n",
    "       'required_car_parking_spaces', 'total_of_special_requests', 'family',\n",
    "       'total_customers', 'meal_BB', 'meal_FB', 'meal_HB', 'meal_SC',\n",
    "       'meal_Undefined', 'distribution_channel_Corporate',\n",
    "       'distribution_channel_Direct', 'distribution_channel_GDS',\n",
    "       'distribution_channel_TA/TO', 'distribution_channel_Undefined',\n",
    "       'deposit_type_No Deposit', 'deposit_type_Non Refund',\n",
    "       'deposit_type_Refundable', 'customer_type_Contract',\n",
    "       'customer_type_Group', 'customer_type_Transient',\n",
    "       'customer_type_Transient-Party'])"
   ]
  },
  {
   "cell_type": "code",
   "execution_count": 71,
   "metadata": {},
   "outputs": [],
   "source": [
    "pca=PCA(n_components=17)\n",
    "new_train=pca.fit_transform(X_train.values)"
   ]
  },
  {
   "cell_type": "code",
   "execution_count": 73,
   "metadata": {},
   "outputs": [],
   "source": [
    "new_test=pca.fit_transform(X_test.values)"
   ]
  },
  {
   "cell_type": "code",
   "execution_count": 72,
   "metadata": {},
   "outputs": [
    {
     "data": {
      "text/plain": [
       "<BarContainer object of 17 artists>"
      ]
     },
     "execution_count": 72,
     "metadata": {},
     "output_type": "execute_result"
    },
    {
     "data": {
      "image/png": "[encoded data removed]",
      "text/plain": [
       "<Figure size 432x288 with 1 Axes>"
      ]
     },
     "metadata": {
      "needs_background": "light"
     },
     "output_type": "display_data"
    }
   ],
   "source": [
    "per_val=np.round(pca.explained_variance_ratio_*100,decimals=1)\n",
    "label=['PC'+str(x) for x in range(1,len(per_val)+1)]\n",
    "plt.bar(x=range(1,len(per_val)+1), height=per_val,tick_label=label)"
   ]
  },
  {
   "cell_type": "code",
   "execution_count": 86,
   "metadata": {},
   "outputs": [
    {
     "data": {
      "text/plain": [
       "(79991, 17)"
      ]
     },
     "execution_count": 86,
     "metadata": {},
     "output_type": "execute_result"
    }
   ],
   "source": [
    "new_train.shape"
   ]
  },
  {
   "cell_type": "code",
   "execution_count": 58,
   "metadata": {},
   "outputs": [
    {
     "data": {
      "text/plain": [
       "(79991, 36)"
      ]
     },
     "execution_count": 58,
     "metadata": {},
     "output_type": "execute_result"
    }
   ],
   "source": [
    "X_train.shape"
   ]
  },
  {
   "cell_type": "code",
   "execution_count": 59,
   "metadata": {},
   "outputs": [],
   "source": [
    "pca_df=pd.DataFrame(new_train,index=X_train.index,columns=label)"
   ]
  },
  {
   "cell_type": "code",
   "execution_count": 66,
   "metadata": {},
   "outputs": [],
   "source": [
    "y_df=pd.DataFrame(data=y_train.values,columns=['is_canceled'])"
   ]
  },
  {
   "cell_type": "code",
   "execution_count": 68,
   "metadata": {},
   "outputs": [
    {
     "data": {
      "text/html": [
       "<div>\n",
       "<style scoped>\n",
       "    .dataframe tbody tr th:only-of-type {\n",
       "        vertical-align: middle;\n",
       "    }\n",
       "\n",
       "    .dataframe tbody tr th {\n",
       "        vertical-align: top;\n",
       "    }\n",
       "\n",
       "    .dataframe thead th {\n",
       "        text-align: right;\n",
       "    }\n",
       "</style>\n",
       "<table border=\"1\" class=\"dataframe\">\n",
       "  <thead>\n",
       "    <tr style=\"text-align: right;\">\n",
       "      <th></th>\n",
       "      <th>PC1</th>\n",
       "      <th>PC2</th>\n",
       "      <th>PC3</th>\n",
       "      <th>PC4</th>\n",
       "      <th>PC5</th>\n",
       "      <th>PC6</th>\n",
       "      <th>PC7</th>\n",
       "      <th>PC8</th>\n",
       "      <th>PC9</th>\n",
       "      <th>PC10</th>\n",
       "      <th>PC11</th>\n",
       "      <th>PC12</th>\n",
       "      <th>PC13</th>\n",
       "      <th>is_canceled</th>\n",
       "    </tr>\n",
       "  </thead>\n",
       "  <tbody>\n",
       "    <tr>\n",
       "      <th>0</th>\n",
       "      <td>-2.339554</td>\n",
       "      <td>-1.282816</td>\n",
       "      <td>3.084072</td>\n",
       "      <td>-0.080251</td>\n",
       "      <td>0.862126</td>\n",
       "      <td>-1.138603</td>\n",
       "      <td>0.539636</td>\n",
       "      <td>0.127669</td>\n",
       "      <td>0.085943</td>\n",
       "      <td>0.053067</td>\n",
       "      <td>-0.167295</td>\n",
       "      <td>0.172178</td>\n",
       "      <td>0.349553</td>\n",
       "      <td>1</td>\n",
       "    </tr>\n",
       "    <tr>\n",
       "      <th>1</th>\n",
       "      <td>-3.301419</td>\n",
       "      <td>-1.647378</td>\n",
       "      <td>2.883447</td>\n",
       "      <td>1.055919</td>\n",
       "      <td>0.356516</td>\n",
       "      <td>-0.456140</td>\n",
       "      <td>-0.120168</td>\n",
       "      <td>-0.172572</td>\n",
       "      <td>0.359509</td>\n",
       "      <td>-0.180810</td>\n",
       "      <td>0.447495</td>\n",
       "      <td>-0.087356</td>\n",
       "      <td>-0.182983</td>\n",
       "      <td>1</td>\n",
       "    </tr>\n",
       "    <tr>\n",
       "      <th>2</th>\n",
       "      <td>-0.523996</td>\n",
       "      <td>3.521463</td>\n",
       "      <td>0.698004</td>\n",
       "      <td>-1.389864</td>\n",
       "      <td>0.694509</td>\n",
       "      <td>-0.429164</td>\n",
       "      <td>-0.526771</td>\n",
       "      <td>-0.573967</td>\n",
       "      <td>0.335753</td>\n",
       "      <td>0.701383</td>\n",
       "      <td>-0.247031</td>\n",
       "      <td>-0.274538</td>\n",
       "      <td>0.280651</td>\n",
       "      <td>0</td>\n",
       "    </tr>\n",
       "    <tr>\n",
       "      <th>3</th>\n",
       "      <td>0.868212</td>\n",
       "      <td>-1.858777</td>\n",
       "      <td>-0.721096</td>\n",
       "      <td>-2.848563</td>\n",
       "      <td>1.913070</td>\n",
       "      <td>0.420114</td>\n",
       "      <td>-0.518962</td>\n",
       "      <td>1.075817</td>\n",
       "      <td>-0.072563</td>\n",
       "      <td>0.573107</td>\n",
       "      <td>-0.697807</td>\n",
       "      <td>-0.170915</td>\n",
       "      <td>0.066610</td>\n",
       "      <td>0</td>\n",
       "    </tr>\n",
       "    <tr>\n",
       "      <th>4</th>\n",
       "      <td>0.133850</td>\n",
       "      <td>-0.753325</td>\n",
       "      <td>0.258483</td>\n",
       "      <td>-2.082405</td>\n",
       "      <td>-0.464836</td>\n",
       "      <td>-0.719573</td>\n",
       "      <td>0.591867</td>\n",
       "      <td>-0.603534</td>\n",
       "      <td>-0.045829</td>\n",
       "      <td>-0.154773</td>\n",
       "      <td>-0.052594</td>\n",
       "      <td>0.169799</td>\n",
       "      <td>0.318846</td>\n",
       "      <td>0</td>\n",
       "    </tr>\n",
       "  </tbody>\n",
       "</table>\n",
       "</div>"
      ],
      "text/plain": [
       "        PC1       PC2       PC3       PC4       PC5       PC6       PC7  \\\n",
       "0 -2.339554 -1.282816  3.084072 -0.080251  0.862126 -1.138603  0.539636   \n",
       "1 -3.301419 -1.647378  2.883447  1.055919  0.356516 -0.456140 -0.120168   \n",
       "2 -0.523996  3.521463  0.698004 -1.389864  0.694509 -0.429164 -0.526771   \n",
       "3  0.868212 -1.858777 -0.721096 -2.848563  1.913070  0.420114 -0.518962   \n",
       "4  0.133850 -0.753325  0.258483 -2.082405 -0.464836 -0.719573  0.591867   \n",
       "\n",
       "        PC8       PC9      PC10      PC11      PC12      PC13  is_canceled  \n",
       "0  0.127669  0.085943  0.053067 -0.167295  0.172178  0.349553            1  \n",
       "1 -0.172572  0.359509 -0.180810  0.447495 -0.087356 -0.182983            1  \n",
       "2 -0.573967  0.335753  0.701383 -0.247031 -0.274538  0.280651            0  \n",
       "3  1.075817 -0.072563  0.573107 -0.697807 -0.170915  0.066610            0  \n",
       "4 -0.603534 -0.045829 -0.154773 -0.052594  0.169799  0.318846            0  "
      ]
     },
     "execution_count": 68,
     "metadata": {},
     "output_type": "execute_result"
    }
   ],
   "source": [
    "finalDf = pd.concat([pca_df, y_df], axis = 1)\n",
    "finalDf.head(5)"
   ]
  },
  {
   "cell_type": "code",
   "execution_count": 87,
   "metadata": {},
   "outputs": [
    {
     "data": {
      "image/png": "[encoded data removed]",
      "text/plain": [
       "<Figure size 360x360 with 1 Axes>"
      ]
     },
     "metadata": {
      "needs_background": "light"
     },
     "output_type": "display_data"
    }
   ],
   "source": [
    "plt.figure(figsize = (5,5))\n",
    "plt.xlabel('pc1-{0}%'.format(per_val[0]))\n",
    "plt.ylabel('pc2-{0}%'.format(per_val[1]))\n",
    "targets = [0, 1]\n",
    "colors = ['r', 'g']\n",
    "for target, color in zip(targets,colors):\n",
    "    indicesToKeep = finalDf['is_canceled'] == target\n",
    "    plt.scatter(finalDf.loc[indicesToKeep, 'PC1']\n",
    "               , finalDf.loc[indicesToKeep, 'PC2']\n",
    "               , c = color\n",
    "               , s = 1, alpha=0.1)\n",
    "plt.legend(['Not Cancelled', 'Cancelled'])\n",
    "plt.grid()"
   ]
  },
  {
   "cell_type": "code",
   "execution_count": 85,
   "metadata": {},
   "outputs": [
    {
     "data": {
      "image/png": "[encoded data removed]",
      "text/plain": [
       "<Figure size 360x360 with 1 Axes>"
      ]
     },
     "metadata": {
      "needs_background": "light"
     },
     "output_type": "display_data"
    }
   ],
   "source": [
    "fig=plt.figure(figsize = (5,5))\n",
    "ax = Axes3D(fig, rect=[0, 0, .95, 1], elev=48, azim=134)\n",
    "ax.set_xlabel('pc1-{0}%'.format(per_val[0]))\n",
    "ax.set_ylabel('pc2-{0}%'.format(per_val[1]))\n",
    "ax.set_zlabel('pc3-{0}%'.format(per_val[2]))\n",
    "targets = [0, 1]\n",
    "colors = ['r', 'g']\n",
    "for target, color in zip(targets,colors):\n",
    "    indicesToKeep = finalDf['is_canceled'] == target\n",
    "    ax.scatter(finalDf.loc[indicesToKeep, 'PC1']\n",
    "               , finalDf.loc[indicesToKeep, 'PC2'],\n",
    "                finalDf.loc[indicesToKeep, 'PC3']\n",
    "               , c = color\n",
    "               , s = 1, alpha=0.1)\n",
    "ax.legend(['Not Cancelled', 'Cancelled'])\n",
    "ax.grid()"
   ]
  },
  {
   "cell_type": "code",
   "execution_count": 76,
   "metadata": {},
   "outputs": [
    {
     "name": "stdout",
     "output_type": "stream",
     "text": [
      "model score: 0.763\n",
      "Validation Results\n",
      "Recall score  0.4598156367360874\n",
      "F1 score 0.5904945633111188\n",
      "roc auc score 0.7010437963917974\n",
      "Precision Score 0.8249418106088447\n",
      "Accuracy score :  0.7629381456382142\n"
     ]
    },
    {
     "data": {
      "text/plain": [
       "<matplotlib.axes._subplots.AxesSubplot at 0x11880808>"
      ]
     },
     "execution_count": 76,
     "metadata": {},
     "output_type": "execute_result"
    },
    {
     "data": {
      "image/png": "[encoded data removed]",
      "text/plain": [
       "<Figure size 432x288 with 2 Axes>"
      ]
     },
     "metadata": {
      "needs_background": "light"
     },
     "output_type": "display_data"
    }
   ],
   "source": [
    "model=RandomForestClassifier(n_estimators=58,max_depth=28,max_features=10,min_samples_split=4,min_samples_leaf=1,criterion='gini')\n",
    "model.fit(new_train,y_train)\n",
    "\n",
    "print(\"model score: %.3f\" % model.score(new_test, y_test))\n",
    "algo_predict=model.predict(new_test)\n",
    "cm_algo = confusion_matrix(y_test, algo_predict)\n",
    "algo_acc = accuracy_score(y_test, algo_predict)\n",
    "print('Validation Results')\n",
    "print(\"Recall score \",recall_score(y_test, algo_predict))\n",
    "print(\"F1 score\",f1_score(y_test, algo_predict))\n",
    "print(\"roc auc score\",roc_auc_score(y_test, algo_predict))\n",
    "print(\"Precision Score\",precision_score(y_test, algo_predict))\n",
    "print(\"Accuracy score : \",algo_acc)\n",
    "sns.heatmap(cm_algo,annot=True)\n",
    "    "
   ]
  },
  {
   "cell_type": "code",
   "execution_count": 77,
   "metadata": {},
   "outputs": [
    {
     "data": {
      "text/plain": [
       "array([0.21251382, 0.11053423, 0.13792875, 0.03938355, 0.0495861 ,\n",
       "       0.03761058, 0.03541063, 0.03853451, 0.03956108, 0.0324571 ,\n",
       "       0.0469799 , 0.03115894, 0.04271506, 0.02868699, 0.02710592,\n",
       "       0.0439313 , 0.04590154])"
      ]
     },
     "execution_count": 77,
     "metadata": {},
     "output_type": "execute_result"
    }
   ],
   "source": [
    "model.feature_importances_"
   ]
  }
 ],
 "metadata": {
  "kernelspec": {
   "display_name": "Python 3",
   "language": "python",
   "name": "python3"
  },
  "language_info": {
   "codemirror_mode": {
    "name": "ipython",
    "version": 3
   },
   "file_extension": ".py",
   "mimetype": "text/x-python",
   "name": "python",
   "nbconvert_exporter": "python",
   "pygments_lexer": "ipython3",
   "version": "3.7.6"
  }
 },
 "nbformat": 4,
 "nbformat_minor": 4
}
